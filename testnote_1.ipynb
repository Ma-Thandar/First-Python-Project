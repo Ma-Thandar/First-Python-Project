{
 "cells": [
  {
   "cell_type": "code",
   "execution_count": 2,
   "metadata": {},
   "outputs": [
    {
     "name": "stdout",
     "output_type": "stream",
     "text": [
      "0\n",
      "1\n",
      "2\n"
     ]
    }
   ],
   "source": [
    "for a in range(3):\n",
    "    print(a)"
   ]
  },
  {
   "cell_type": "code",
   "execution_count": 9,
   "metadata": {},
   "outputs": [
    {
     "name": "stdout",
     "output_type": "stream",
     "text": [
      "enter a number ..\n"
     ]
    },
    {
     "ename": "ValueError",
     "evalue": "invalid literal for int() with base 10: ''",
     "output_type": "error",
     "traceback": [
      "\u001b[1;31m---------------------------------------------------------------------------\u001b[0m",
      "\u001b[1;31mValueError\u001b[0m                                Traceback (most recent call last)",
      "\u001b[1;32md:\\Projects\\Python\\Python\\Py_Basic\\testnote_1.ipynb Cell 2\u001b[0m line \u001b[0;36m2\n\u001b[0;32m      <a href='vscode-notebook-cell:/d%3A/Projects/Python/Python/Py_Basic/testnote_1.ipynb#X16sZmlsZQ%3D%3D?line=0'>1</a>\u001b[0m \u001b[39mprint\u001b[39m(\u001b[39m\"\u001b[39m\u001b[39menter a number ..\u001b[39m\u001b[39m\"\u001b[39m)\n\u001b[1;32m----> <a href='vscode-notebook-cell:/d%3A/Projects/Python/Python/Py_Basic/testnote_1.ipynb#X16sZmlsZQ%3D%3D?line=1'>2</a>\u001b[0m val\u001b[39m=\u001b[39m\u001b[39mint\u001b[39;49m(\u001b[39minput\u001b[39;49m())\n\u001b[0;32m      <a href='vscode-notebook-cell:/d%3A/Projects/Python/Python/Py_Basic/testnote_1.ipynb#X16sZmlsZQ%3D%3D?line=2'>3</a>\u001b[0m numbers\u001b[39m=\u001b[39m[]\n\u001b[0;32m      <a href='vscode-notebook-cell:/d%3A/Projects/Python/Python/Py_Basic/testnote_1.ipynb#X16sZmlsZQ%3D%3D?line=3'>4</a>\u001b[0m \u001b[39mfor\u001b[39;00m a \u001b[39min\u001b[39;00m \u001b[39mrange\u001b[39m(\u001b[39m1\u001b[39m, val\u001b[39m+\u001b[39m\u001b[39m1\u001b[39m):\n",
      "\u001b[1;31mValueError\u001b[0m: invalid literal for int() with base 10: ''"
     ]
    }
   ],
   "source": [
    "print(\"enter a number ..\")\n",
    "val=int(input())\n",
    "numbers=[]\n",
    "for a in range(1, val+1):\n",
    "    if a % 2 != 0:\n",
    "        numbers.append(a)\n",
    "def sum_of_odds(numbers):\n",
    "    return sum(number for number in numbers if number % 2 != 0)\n",
    "result = sum_of_odds(numbers)\n",
    "print(f\"The sum of odd numbers is: {result}\")"
   ]
  },
  {
   "cell_type": "code",
   "execution_count": null,
   "metadata": {},
   "outputs": [],
   "source": [
    "for a in range (5):\n",
    "    print(\"hello\")"
   ]
  },
  {
   "cell_type": "code",
   "execution_count": 119,
   "metadata": {},
   "outputs": [
    {
     "name": "stdout",
     "output_type": "stream",
     "text": [
      "0\n",
      "1\n",
      "2\n",
      "3\n",
      "4\n",
      "5\n"
     ]
    }
   ],
   "source": [
    "i = 0\n",
    "while i<5:\n",
    "    print(i)\n",
    "    i+=1 \n",
    "print(i)    "
   ]
  },
  {
   "cell_type": "code",
   "execution_count": 41,
   "metadata": {},
   "outputs": [
    {
     "data": {
      "text/plain": [
       "False"
      ]
     },
     "execution_count": 41,
     "metadata": {},
     "output_type": "execute_result"
    }
   ],
   "source": [
    "# test in oprator\n",
    "pets=['dog','cat','ferret']\n",
    "'fox' in pets\n"
   ]
  },
  {
   "cell_type": "code",
   "execution_count": 130,
   "metadata": {},
   "outputs": [
    {
     "name": "stdout",
     "output_type": "stream",
     "text": [
      "the result of a and b is  6\n"
     ]
    }
   ],
   "source": [
    "def sum(a,b):\n",
    "    \n",
    "   # print(\"the result of \" + a + \" + \" + b + \"is\")\n",
    "   print(f\"the result of a and b is \",a+b)\n",
    "sum(2,4)\n"
   ]
  },
  {
   "cell_type": "code",
   "execution_count": 65,
   "metadata": {},
   "outputs": [
    {
     "name": "stdout",
     "output_type": "stream",
     "text": [
      "(1, 'a', '#')\n",
      "(2, 'b', '*')\n",
      "(3, 'c', '$')\n"
     ]
    }
   ],
   "source": [
    "#zip function\n",
    "for i in zip([1,2,3],['a','b','c'],['#','*','$']):\n",
    "\tprint(i)\n"
   ]
  },
  {
   "cell_type": "code",
   "execution_count": 81,
   "metadata": {},
   "outputs": [
    {
     "name": "stdout",
     "output_type": "stream",
     "text": [
      "<class 'str'>\n",
      "<class 'complex'>\n",
      "True\n",
      "if\n",
      "only\n",
      "t\n",
      "tor\n",
      "1 store B\n",
      "55\n"
     ]
    }
   ],
   "source": [
    "a = 'store A'\n",
    "#complex number(real part, imaginary part)\n",
    "c = 1+2j\n",
    "x = 'store B'\n",
    "num1 = '5'\n",
    "print(type(a))\n",
    "print(type(c))\n",
    "print(isinstance(c,complex))\n",
    "#separate sting with tripple \n",
    "test_string_1=\"\"\"if\n",
    "only\"\"\"\n",
    "print(test_string_1)\n",
    "test_string_1\n",
    "print(a[1])\n",
    "print(a[1:4])\n",
    "print('1 '+x)\n",
    "#concatinate two stings\n",
    "print(num1+num1)"
   ]
  },
  {
   "cell_type": "code",
   "execution_count": 117,
   "metadata": {},
   "outputs": [
    {
     "name": "stdout",
     "output_type": "stream",
     "text": [
      "([1, 2, 3], ['e', 'f', 'g'])\n",
      "2\n",
      "susu\n",
      "ayeaye\n",
      "['name', 'age']\n",
      "<class 'bool'>\n",
      "True\n"
     ]
    }
   ],
   "source": [
    "#turple\n",
    "turple_test = ([1,2,3],['e','f','g'])\n",
    "#defination \n",
    "student = {'name' : 'susu', 'age' : 20}\n",
    "print(turple_test)\n",
    "print(len(turple_test))\n",
    "print(student['name'])\n",
    "#chaning value in defination\n",
    "student['name'] = 'ayeaye'\n",
    "print(student['name'])\n",
    "print(list(student))\n",
    "#boolean value checking\n",
    "bol_val= 2==2\n",
    "#printing type of boolean\n",
    "print(type(bol_val))\n",
    "print(bol_val)"
   ]
  },
  {
   "cell_type": "code",
   "execution_count": 153,
   "metadata": {},
   "outputs": [
    {
     "name": "stdout",
     "output_type": "stream",
     "text": [
      "the result is :  5\n",
      "the result is :  -1\n",
      "the result is :  20\n",
      "the result is :  2.5\n"
     ]
    }
   ],
   "source": [
    "def sum(a,b):\n",
    "         return a+b\n",
    "def sub(a,b):\n",
    "         return a-b\n",
    "def mul(a,b):\n",
    "         return a*b\n",
    "def div(a,b):\n",
    "         return a/b\n",
    "sum(2,3)\n",
    "print(\"the result is : \",sum(2,3))\n",
    "sub(3,4)\n",
    "print(\"the result is : \",sub(3,4))\n",
    "mul(5,4)\n",
    "print(\"the result is : \",mul(5,4))\n",
    "div(10,4)\n",
    "print(\"the result is : \",div(10,4))\n",
    "\n",
    "#print(\"the result is : \",sum(2,3))"
   ]
  },
  {
   "cell_type": "code",
   "execution_count": 158,
   "metadata": {},
   "outputs": [
    {
     "name": "stdout",
     "output_type": "stream",
     "text": [
      "\"string testing\"\n"
     ]
    }
   ],
   "source": [
    "# a = \"Hello\\\n",
    "#     World\"\n",
    "# print(a)\n",
    "a = '\"string testing\"'\n",
    "print(a)"
   ]
  },
  {
   "cell_type": "code",
   "execution_count": null,
   "metadata": {},
   "outputs": [],
   "source": [
    "a[8:] a[:-2] a[-2:] a[-2:-2]"
   ]
  },
  {
   "cell_type": "code",
   "execution_count": 162,
   "metadata": {},
   "outputs": [
    {
     "name": "stdout",
     "output_type": "stream",
     "text": [
      "Age 21 City YGN\n"
     ]
    }
   ],
   "source": [
    "city=\"YGN\"\n",
    "\n",
    "print(\"Age\",21,\"City\",city)"
   ]
  },
  {
   "cell_type": "code",
   "execution_count": null,
   "metadata": {},
   "outputs": [],
   "source": []
  }
 ],
 "metadata": {
  "interpreter": {
   "hash": "2647ea34e536f865ab67ff9ddee7fd78773d956cec0cab53c79b32cd10da5d83"
  },
  "kernelspec": {
   "display_name": "Python 3.9.5 64-bit",
   "name": "python3"
  },
  "language_info": {
   "codemirror_mode": {
    "name": "ipython",
    "version": 3
   },
   "file_extension": ".py",
   "mimetype": "text/x-python",
   "name": "python",
   "nbconvert_exporter": "python",
   "pygments_lexer": "ipython3",
   "version": "3.11.4"
  },
  "orig_nbformat": 4
 },
 "nbformat": 4,
 "nbformat_minor": 2
}
